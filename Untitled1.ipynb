{
 "cells": [
  {
   "cell_type": "code",
   "execution_count": 106,
   "id": "da98bafc",
   "metadata": {},
   "outputs": [],
   "source": [
    "import numpy as np\n",
    "import pandas as pd"
   ]
  },
  {
   "cell_type": "code",
   "execution_count": 107,
   "id": "9612e1ae",
   "metadata": {},
   "outputs": [],
   "source": [
    "data=pd.read_csv('qoutes.csv', encoding= 'unicode_escape')"
   ]
  },
  {
   "cell_type": "code",
   "execution_count": 108,
   "id": "2bd8451e",
   "metadata": {},
   "outputs": [
    {
     "data": {
      "text/html": [
       "<div>\n",
       "<style scoped>\n",
       "    .dataframe tbody tr th:only-of-type {\n",
       "        vertical-align: middle;\n",
       "    }\n",
       "\n",
       "    .dataframe tbody tr th {\n",
       "        vertical-align: top;\n",
       "    }\n",
       "\n",
       "    .dataframe thead th {\n",
       "        text-align: right;\n",
       "    }\n",
       "</style>\n",
       "<table border=\"1\" class=\"dataframe\">\n",
       "  <thead>\n",
       "    <tr style=\"text-align: right;\">\n",
       "      <th></th>\n",
       "      <th>id</th>\n",
       "      <th>quotes</th>\n",
       "      <th>author</th>\n",
       "      <th>category</th>\n",
       "    </tr>\n",
       "  </thead>\n",
       "  <tbody>\n",
       "    <tr>\n",
       "      <th>0</th>\n",
       "      <td>1</td>\n",
       "      <td>Different verticals need different terminal r...</td>\n",
       "      <td>Alex Shultz</td>\n",
       "      <td>Analytics</td>\n",
       "    </tr>\n",
       "    <tr>\n",
       "      <th>1</th>\n",
       "      <td>2</td>\n",
       "      <td>Tracking marketing is a cultural thing. Eithe...</td>\n",
       "      <td>Stuart McDonald</td>\n",
       "      <td>Analytics</td>\n",
       "    </tr>\n",
       "    <tr>\n",
       "      <th>2</th>\n",
       "      <td>3</td>\n",
       "      <td>Time and money are your scarcest resources. Y...</td>\n",
       "      <td>Matt Trifiro</td>\n",
       "      <td>Analytics</td>\n",
       "    </tr>\n",
       "    <tr>\n",
       "      <th>3</th>\n",
       "      <td>4</td>\n",
       "      <td>Have a vision for what you are trying to do. ...</td>\n",
       "      <td>Andrew Chen</td>\n",
       "      <td>Analytics</td>\n",
       "    </tr>\n",
       "    <tr>\n",
       "      <th>4</th>\n",
       "      <td>5</td>\n",
       "      <td>Execution is so critical. Sometimes you just ...</td>\n",
       "      <td>Meenal Balar</td>\n",
       "      <td>Analytics</td>\n",
       "    </tr>\n",
       "  </tbody>\n",
       "</table>\n",
       "</div>"
      ],
      "text/plain": [
       "   id                                             quotes           author  \\\n",
       "0   1   Different verticals need different terminal r...      Alex Shultz   \n",
       "1   2   Tracking marketing is a cultural thing. Eithe...  Stuart McDonald   \n",
       "2   3   Time and money are your scarcest resources. Y...     Matt Trifiro   \n",
       "3   4   Have a vision for what you are trying to do. ...      Andrew Chen   \n",
       "4   5   Execution is so critical. Sometimes you just ...     Meenal Balar   \n",
       "\n",
       "    category  \n",
       "0  Analytics  \n",
       "1  Analytics  \n",
       "2  Analytics  \n",
       "3  Analytics  \n",
       "4  Analytics  "
      ]
     },
     "execution_count": 108,
     "metadata": {},
     "output_type": "execute_result"
    }
   ],
   "source": [
    "data.head()"
   ]
  },
  {
   "cell_type": "code",
   "execution_count": 109,
   "id": "4078b3c6",
   "metadata": {},
   "outputs": [
    {
     "data": {
      "text/html": [
       "<div>\n",
       "<style scoped>\n",
       "    .dataframe tbody tr th:only-of-type {\n",
       "        vertical-align: middle;\n",
       "    }\n",
       "\n",
       "    .dataframe tbody tr th {\n",
       "        vertical-align: top;\n",
       "    }\n",
       "\n",
       "    .dataframe thead th {\n",
       "        text-align: right;\n",
       "    }\n",
       "</style>\n",
       "<table border=\"1\" class=\"dataframe\">\n",
       "  <thead>\n",
       "    <tr style=\"text-align: right;\">\n",
       "      <th></th>\n",
       "      <th>id</th>\n",
       "      <th>quotes</th>\n",
       "      <th>author</th>\n",
       "      <th>category</th>\n",
       "    </tr>\n",
       "  </thead>\n",
       "  <tbody>\n",
       "    <tr>\n",
       "      <th>0</th>\n",
       "      <td>1</td>\n",
       "      <td>Different verticals need different terminal r...</td>\n",
       "      <td>Alex Shultz</td>\n",
       "      <td>Analytics</td>\n",
       "    </tr>\n",
       "    <tr>\n",
       "      <th>1</th>\n",
       "      <td>2</td>\n",
       "      <td>Tracking marketing is a cultural thing. Eithe...</td>\n",
       "      <td>Stuart McDonald</td>\n",
       "      <td>Analytics</td>\n",
       "    </tr>\n",
       "    <tr>\n",
       "      <th>2</th>\n",
       "      <td>3</td>\n",
       "      <td>Time and money are your scarcest resources. Y...</td>\n",
       "      <td>Matt Trifiro</td>\n",
       "      <td>Analytics</td>\n",
       "    </tr>\n",
       "    <tr>\n",
       "      <th>3</th>\n",
       "      <td>4</td>\n",
       "      <td>Have a vision for what you are trying to do. ...</td>\n",
       "      <td>Andrew Chen</td>\n",
       "      <td>Analytics</td>\n",
       "    </tr>\n",
       "    <tr>\n",
       "      <th>4</th>\n",
       "      <td>5</td>\n",
       "      <td>Execution is so critical. Sometimes you just ...</td>\n",
       "      <td>Meenal Balar</td>\n",
       "      <td>Analytics</td>\n",
       "    </tr>\n",
       "  </tbody>\n",
       "</table>\n",
       "</div>"
      ],
      "text/plain": [
       "   id                                             quotes           author  \\\n",
       "0   1   Different verticals need different terminal r...      Alex Shultz   \n",
       "1   2   Tracking marketing is a cultural thing. Eithe...  Stuart McDonald   \n",
       "2   3   Time and money are your scarcest resources. Y...     Matt Trifiro   \n",
       "3   4   Have a vision for what you are trying to do. ...      Andrew Chen   \n",
       "4   5   Execution is so critical. Sometimes you just ...     Meenal Balar   \n",
       "\n",
       "    category  \n",
       "0  Analytics  \n",
       "1  Analytics  \n",
       "2  Analytics  \n",
       "3  Analytics  \n",
       "4  Analytics  "
      ]
     },
     "execution_count": 109,
     "metadata": {},
     "output_type": "execute_result"
    }
   ],
   "source": [
    "data.head()"
   ]
  },
  {
   "cell_type": "code",
   "execution_count": 110,
   "id": "01557818",
   "metadata": {},
   "outputs": [],
   "source": [
    "# data['author'] = data['author'].apply(lambda x:x.replace(\" \",\"\"))\n",
    "# data['category'] = data['category'].apply(lambda x:x.replace(\" \",\"\"))"
   ]
  },
  {
   "cell_type": "code",
   "execution_count": 111,
   "id": "5139f68f",
   "metadata": {},
   "outputs": [
    {
     "data": {
      "text/html": [
       "<div>\n",
       "<style scoped>\n",
       "    .dataframe tbody tr th:only-of-type {\n",
       "        vertical-align: middle;\n",
       "    }\n",
       "\n",
       "    .dataframe tbody tr th {\n",
       "        vertical-align: top;\n",
       "    }\n",
       "\n",
       "    .dataframe thead th {\n",
       "        text-align: right;\n",
       "    }\n",
       "</style>\n",
       "<table border=\"1\" class=\"dataframe\">\n",
       "  <thead>\n",
       "    <tr style=\"text-align: right;\">\n",
       "      <th></th>\n",
       "      <th>id</th>\n",
       "      <th>quotes</th>\n",
       "      <th>author</th>\n",
       "      <th>category</th>\n",
       "    </tr>\n",
       "  </thead>\n",
       "  <tbody>\n",
       "    <tr>\n",
       "      <th>0</th>\n",
       "      <td>1</td>\n",
       "      <td>Different verticals need different terminal r...</td>\n",
       "      <td>Alex Shultz</td>\n",
       "      <td>Analytics</td>\n",
       "    </tr>\n",
       "    <tr>\n",
       "      <th>1</th>\n",
       "      <td>2</td>\n",
       "      <td>Tracking marketing is a cultural thing. Eithe...</td>\n",
       "      <td>Stuart McDonald</td>\n",
       "      <td>Analytics</td>\n",
       "    </tr>\n",
       "    <tr>\n",
       "      <th>2</th>\n",
       "      <td>3</td>\n",
       "      <td>Time and money are your scarcest resources. Y...</td>\n",
       "      <td>Matt Trifiro</td>\n",
       "      <td>Analytics</td>\n",
       "    </tr>\n",
       "    <tr>\n",
       "      <th>3</th>\n",
       "      <td>4</td>\n",
       "      <td>Have a vision for what you are trying to do. ...</td>\n",
       "      <td>Andrew Chen</td>\n",
       "      <td>Analytics</td>\n",
       "    </tr>\n",
       "    <tr>\n",
       "      <th>4</th>\n",
       "      <td>5</td>\n",
       "      <td>Execution is so critical. Sometimes you just ...</td>\n",
       "      <td>Meenal Balar</td>\n",
       "      <td>Analytics</td>\n",
       "    </tr>\n",
       "  </tbody>\n",
       "</table>\n",
       "</div>"
      ],
      "text/plain": [
       "   id                                             quotes           author  \\\n",
       "0   1   Different verticals need different terminal r...      Alex Shultz   \n",
       "1   2   Tracking marketing is a cultural thing. Eithe...  Stuart McDonald   \n",
       "2   3   Time and money are your scarcest resources. Y...     Matt Trifiro   \n",
       "3   4   Have a vision for what you are trying to do. ...      Andrew Chen   \n",
       "4   5   Execution is so critical. Sometimes you just ...     Meenal Balar   \n",
       "\n",
       "    category  \n",
       "0  Analytics  \n",
       "1  Analytics  \n",
       "2  Analytics  \n",
       "3  Analytics  \n",
       "4  Analytics  "
      ]
     },
     "execution_count": 111,
     "metadata": {},
     "output_type": "execute_result"
    }
   ],
   "source": [
    "data.head()"
   ]
  },
  {
   "cell_type": "code",
   "execution_count": 112,
   "id": "c751c92c",
   "metadata": {},
   "outputs": [],
   "source": [
    "data['og_quotes'] = data['quotes']\n",
    "data['quotes'] = data['quotes'].apply(lambda x:x.replace(\"\\x98\",\"\"))\n",
    "data['quotes'] = data['quotes'].apply(lambda x:x.replace(\"\\x9d\",\"\"))"
   ]
  },
  {
   "cell_type": "code",
   "execution_count": 113,
   "id": "693a7f22",
   "metadata": {},
   "outputs": [],
   "source": [
    "data['quotes'] = data['quotes'].apply(lambda x:x.split())\n",
    "data['author'] = data['author'].apply(lambda x:x.split())\n",
    "data['category'] = data['category'].apply(lambda x:x.split())"
   ]
  },
  {
   "cell_type": "code",
   "execution_count": 114,
   "id": "d8cb7c28",
   "metadata": {},
   "outputs": [],
   "source": [
    "# data['author'] = data['author'].apply(lambda x:x.replace(\" \",\"\"))\n",
    "# data['category'] = data['category'].apply(lambda x:x.replac e(\"\",\"\"))\n"
   ]
  },
  {
   "cell_type": "code",
   "execution_count": 115,
   "id": "f192edbd",
   "metadata": {
    "scrolled": true
   },
   "outputs": [
    {
     "data": {
      "text/html": [
       "<div>\n",
       "<style scoped>\n",
       "    .dataframe tbody tr th:only-of-type {\n",
       "        vertical-align: middle;\n",
       "    }\n",
       "\n",
       "    .dataframe tbody tr th {\n",
       "        vertical-align: top;\n",
       "    }\n",
       "\n",
       "    .dataframe thead th {\n",
       "        text-align: right;\n",
       "    }\n",
       "</style>\n",
       "<table border=\"1\" class=\"dataframe\">\n",
       "  <thead>\n",
       "    <tr style=\"text-align: right;\">\n",
       "      <th></th>\n",
       "      <th>id</th>\n",
       "      <th>quotes</th>\n",
       "      <th>author</th>\n",
       "      <th>category</th>\n",
       "      <th>og_quotes</th>\n",
       "    </tr>\n",
       "  </thead>\n",
       "  <tbody>\n",
       "    <tr>\n",
       "      <th>0</th>\n",
       "      <td>1</td>\n",
       "      <td>[Different, verticals, need, different, termin...</td>\n",
       "      <td>[Alex, Shultz]</td>\n",
       "      <td>[Analytics]</td>\n",
       "      <td>Different verticals need different terminal r...</td>\n",
       "    </tr>\n",
       "    <tr>\n",
       "      <th>1</th>\n",
       "      <td>2</td>\n",
       "      <td>[Tracking, marketing, is, a, cultural, thing.,...</td>\n",
       "      <td>[Stuart, McDonald]</td>\n",
       "      <td>[Analytics]</td>\n",
       "      <td>Tracking marketing is a cultural thing. Eithe...</td>\n",
       "    </tr>\n",
       "    <tr>\n",
       "      <th>2</th>\n",
       "      <td>3</td>\n",
       "      <td>[Time, and, money, are, your, scarcest, resour...</td>\n",
       "      <td>[Matt, Trifiro]</td>\n",
       "      <td>[Analytics]</td>\n",
       "      <td>Time and money are your scarcest resources. Y...</td>\n",
       "    </tr>\n",
       "    <tr>\n",
       "      <th>3</th>\n",
       "      <td>4</td>\n",
       "      <td>[Have, a, vision, for, what, you, are, trying,...</td>\n",
       "      <td>[Andrew, Chen]</td>\n",
       "      <td>[Analytics]</td>\n",
       "      <td>Have a vision for what you are trying to do. ...</td>\n",
       "    </tr>\n",
       "    <tr>\n",
       "      <th>4</th>\n",
       "      <td>5</td>\n",
       "      <td>[Execution, is, so, critical., Sometimes, you,...</td>\n",
       "      <td>[Meenal, Balar]</td>\n",
       "      <td>[Analytics]</td>\n",
       "      <td>Execution is so critical. Sometimes you just ...</td>\n",
       "    </tr>\n",
       "  </tbody>\n",
       "</table>\n",
       "</div>"
      ],
      "text/plain": [
       "   id                                             quotes              author  \\\n",
       "0   1  [Different, verticals, need, different, termin...      [Alex, Shultz]   \n",
       "1   2  [Tracking, marketing, is, a, cultural, thing.,...  [Stuart, McDonald]   \n",
       "2   3  [Time, and, money, are, your, scarcest, resour...     [Matt, Trifiro]   \n",
       "3   4  [Have, a, vision, for, what, you, are, trying,...      [Andrew, Chen]   \n",
       "4   5  [Execution, is, so, critical., Sometimes, you,...     [Meenal, Balar]   \n",
       "\n",
       "      category                                          og_quotes  \n",
       "0  [Analytics]   Different verticals need different terminal r...  \n",
       "1  [Analytics]   Tracking marketing is a cultural thing. Eithe...  \n",
       "2  [Analytics]   Time and money are your scarcest resources. Y...  \n",
       "3  [Analytics]   Have a vision for what you are trying to do. ...  \n",
       "4  [Analytics]   Execution is so critical. Sometimes you just ...  "
      ]
     },
     "execution_count": 115,
     "metadata": {},
     "output_type": "execute_result"
    }
   ],
   "source": [
    "data.head()"
   ]
  },
  {
   "cell_type": "code",
   "execution_count": 116,
   "id": "48c01c15",
   "metadata": {},
   "outputs": [],
   "source": [
    "data['tags'] = data['quotes'] + data['author'] + data['category']"
   ]
  },
  {
   "cell_type": "code",
   "execution_count": 117,
   "id": "e27e0c15",
   "metadata": {},
   "outputs": [
    {
     "data": {
      "text/html": [
       "<div>\n",
       "<style scoped>\n",
       "    .dataframe tbody tr th:only-of-type {\n",
       "        vertical-align: middle;\n",
       "    }\n",
       "\n",
       "    .dataframe tbody tr th {\n",
       "        vertical-align: top;\n",
       "    }\n",
       "\n",
       "    .dataframe thead th {\n",
       "        text-align: right;\n",
       "    }\n",
       "</style>\n",
       "<table border=\"1\" class=\"dataframe\">\n",
       "  <thead>\n",
       "    <tr style=\"text-align: right;\">\n",
       "      <th></th>\n",
       "      <th>id</th>\n",
       "      <th>quotes</th>\n",
       "      <th>author</th>\n",
       "      <th>category</th>\n",
       "      <th>og_quotes</th>\n",
       "      <th>tags</th>\n",
       "    </tr>\n",
       "  </thead>\n",
       "  <tbody>\n",
       "    <tr>\n",
       "      <th>0</th>\n",
       "      <td>1</td>\n",
       "      <td>[Different, verticals, need, different, termin...</td>\n",
       "      <td>[Alex, Shultz]</td>\n",
       "      <td>[Analytics]</td>\n",
       "      <td>Different verticals need different terminal r...</td>\n",
       "      <td>[Different, verticals, need, different, termin...</td>\n",
       "    </tr>\n",
       "    <tr>\n",
       "      <th>1</th>\n",
       "      <td>2</td>\n",
       "      <td>[Tracking, marketing, is, a, cultural, thing.,...</td>\n",
       "      <td>[Stuart, McDonald]</td>\n",
       "      <td>[Analytics]</td>\n",
       "      <td>Tracking marketing is a cultural thing. Eithe...</td>\n",
       "      <td>[Tracking, marketing, is, a, cultural, thing.,...</td>\n",
       "    </tr>\n",
       "    <tr>\n",
       "      <th>2</th>\n",
       "      <td>3</td>\n",
       "      <td>[Time, and, money, are, your, scarcest, resour...</td>\n",
       "      <td>[Matt, Trifiro]</td>\n",
       "      <td>[Analytics]</td>\n",
       "      <td>Time and money are your scarcest resources. Y...</td>\n",
       "      <td>[Time, and, money, are, your, scarcest, resour...</td>\n",
       "    </tr>\n",
       "    <tr>\n",
       "      <th>3</th>\n",
       "      <td>4</td>\n",
       "      <td>[Have, a, vision, for, what, you, are, trying,...</td>\n",
       "      <td>[Andrew, Chen]</td>\n",
       "      <td>[Analytics]</td>\n",
       "      <td>Have a vision for what you are trying to do. ...</td>\n",
       "      <td>[Have, a, vision, for, what, you, are, trying,...</td>\n",
       "    </tr>\n",
       "    <tr>\n",
       "      <th>4</th>\n",
       "      <td>5</td>\n",
       "      <td>[Execution, is, so, critical., Sometimes, you,...</td>\n",
       "      <td>[Meenal, Balar]</td>\n",
       "      <td>[Analytics]</td>\n",
       "      <td>Execution is so critical. Sometimes you just ...</td>\n",
       "      <td>[Execution, is, so, critical., Sometimes, you,...</td>\n",
       "    </tr>\n",
       "  </tbody>\n",
       "</table>\n",
       "</div>"
      ],
      "text/plain": [
       "   id                                             quotes              author  \\\n",
       "0   1  [Different, verticals, need, different, termin...      [Alex, Shultz]   \n",
       "1   2  [Tracking, marketing, is, a, cultural, thing.,...  [Stuart, McDonald]   \n",
       "2   3  [Time, and, money, are, your, scarcest, resour...     [Matt, Trifiro]   \n",
       "3   4  [Have, a, vision, for, what, you, are, trying,...      [Andrew, Chen]   \n",
       "4   5  [Execution, is, so, critical., Sometimes, you,...     [Meenal, Balar]   \n",
       "\n",
       "      category                                          og_quotes  \\\n",
       "0  [Analytics]   Different verticals need different terminal r...   \n",
       "1  [Analytics]   Tracking marketing is a cultural thing. Eithe...   \n",
       "2  [Analytics]   Time and money are your scarcest resources. Y...   \n",
       "3  [Analytics]   Have a vision for what you are trying to do. ...   \n",
       "4  [Analytics]   Execution is so critical. Sometimes you just ...   \n",
       "\n",
       "                                                tags  \n",
       "0  [Different, verticals, need, different, termin...  \n",
       "1  [Tracking, marketing, is, a, cultural, thing.,...  \n",
       "2  [Time, and, money, are, your, scarcest, resour...  \n",
       "3  [Have, a, vision, for, what, you, are, trying,...  \n",
       "4  [Execution, is, so, critical., Sometimes, you,...  "
      ]
     },
     "execution_count": 117,
     "metadata": {},
     "output_type": "execute_result"
    }
   ],
   "source": [
    "data.head()"
   ]
  },
  {
   "cell_type": "code",
   "execution_count": 118,
   "id": "bd1a7328",
   "metadata": {},
   "outputs": [],
   "source": [
    "from sklearn.feature_extraction.text import CountVectorizer\n",
    "cv = CountVectorizer(max_features=5000,stop_words='english')"
   ]
  },
  {
   "cell_type": "code",
   "execution_count": 119,
   "id": "5b314b50",
   "metadata": {},
   "outputs": [
    {
     "data": {
      "text/html": [
       "<div>\n",
       "<style scoped>\n",
       "    .dataframe tbody tr th:only-of-type {\n",
       "        vertical-align: middle;\n",
       "    }\n",
       "\n",
       "    .dataframe tbody tr th {\n",
       "        vertical-align: top;\n",
       "    }\n",
       "\n",
       "    .dataframe thead th {\n",
       "        text-align: right;\n",
       "    }\n",
       "</style>\n",
       "<table border=\"1\" class=\"dataframe\">\n",
       "  <thead>\n",
       "    <tr style=\"text-align: right;\">\n",
       "      <th></th>\n",
       "      <th>id</th>\n",
       "      <th>quotes</th>\n",
       "      <th>author</th>\n",
       "      <th>category</th>\n",
       "      <th>og_quotes</th>\n",
       "      <th>tags</th>\n",
       "    </tr>\n",
       "  </thead>\n",
       "  <tbody>\n",
       "    <tr>\n",
       "      <th>0</th>\n",
       "      <td>1</td>\n",
       "      <td>[Different, verticals, need, different, termin...</td>\n",
       "      <td>[Alex, Shultz]</td>\n",
       "      <td>[Analytics]</td>\n",
       "      <td>Different verticals need different terminal r...</td>\n",
       "      <td>[Different, verticals, need, different, termin...</td>\n",
       "    </tr>\n",
       "    <tr>\n",
       "      <th>1</th>\n",
       "      <td>2</td>\n",
       "      <td>[Tracking, marketing, is, a, cultural, thing.,...</td>\n",
       "      <td>[Stuart, McDonald]</td>\n",
       "      <td>[Analytics]</td>\n",
       "      <td>Tracking marketing is a cultural thing. Eithe...</td>\n",
       "      <td>[Tracking, marketing, is, a, cultural, thing.,...</td>\n",
       "    </tr>\n",
       "    <tr>\n",
       "      <th>2</th>\n",
       "      <td>3</td>\n",
       "      <td>[Time, and, money, are, your, scarcest, resour...</td>\n",
       "      <td>[Matt, Trifiro]</td>\n",
       "      <td>[Analytics]</td>\n",
       "      <td>Time and money are your scarcest resources. Y...</td>\n",
       "      <td>[Time, and, money, are, your, scarcest, resour...</td>\n",
       "    </tr>\n",
       "    <tr>\n",
       "      <th>3</th>\n",
       "      <td>4</td>\n",
       "      <td>[Have, a, vision, for, what, you, are, trying,...</td>\n",
       "      <td>[Andrew, Chen]</td>\n",
       "      <td>[Analytics]</td>\n",
       "      <td>Have a vision for what you are trying to do. ...</td>\n",
       "      <td>[Have, a, vision, for, what, you, are, trying,...</td>\n",
       "    </tr>\n",
       "    <tr>\n",
       "      <th>4</th>\n",
       "      <td>5</td>\n",
       "      <td>[Execution, is, so, critical., Sometimes, you,...</td>\n",
       "      <td>[Meenal, Balar]</td>\n",
       "      <td>[Analytics]</td>\n",
       "      <td>Execution is so critical. Sometimes you just ...</td>\n",
       "      <td>[Execution, is, so, critical., Sometimes, you,...</td>\n",
       "    </tr>\n",
       "  </tbody>\n",
       "</table>\n",
       "</div>"
      ],
      "text/plain": [
       "   id                                             quotes              author  \\\n",
       "0   1  [Different, verticals, need, different, termin...      [Alex, Shultz]   \n",
       "1   2  [Tracking, marketing, is, a, cultural, thing.,...  [Stuart, McDonald]   \n",
       "2   3  [Time, and, money, are, your, scarcest, resour...     [Matt, Trifiro]   \n",
       "3   4  [Have, a, vision, for, what, you, are, trying,...      [Andrew, Chen]   \n",
       "4   5  [Execution, is, so, critical., Sometimes, you,...     [Meenal, Balar]   \n",
       "\n",
       "      category                                          og_quotes  \\\n",
       "0  [Analytics]   Different verticals need different terminal r...   \n",
       "1  [Analytics]   Tracking marketing is a cultural thing. Eithe...   \n",
       "2  [Analytics]   Time and money are your scarcest resources. Y...   \n",
       "3  [Analytics]   Have a vision for what you are trying to do. ...   \n",
       "4  [Analytics]   Execution is so critical. Sometimes you just ...   \n",
       "\n",
       "                                                tags  \n",
       "0  [Different, verticals, need, different, termin...  \n",
       "1  [Tracking, marketing, is, a, cultural, thing.,...  \n",
       "2  [Time, and, money, are, your, scarcest, resour...  \n",
       "3  [Have, a, vision, for, what, you, are, trying,...  \n",
       "4  [Execution, is, so, critical., Sometimes, you,...  "
      ]
     },
     "execution_count": 119,
     "metadata": {},
     "output_type": "execute_result"
    }
   ],
   "source": [
    "data.head()"
   ]
  },
  {
   "cell_type": "code",
   "execution_count": 120,
   "id": "8b4ec3d4",
   "metadata": {},
   "outputs": [],
   "source": [
    "data['tags'] = data['tags'].apply(lambda x:\" \".join(x))\n"
   ]
  },
  {
   "cell_type": "code",
   "execution_count": 121,
   "id": "e320ca3f",
   "metadata": {},
   "outputs": [
    {
     "data": {
      "text/html": [
       "<div>\n",
       "<style scoped>\n",
       "    .dataframe tbody tr th:only-of-type {\n",
       "        vertical-align: middle;\n",
       "    }\n",
       "\n",
       "    .dataframe tbody tr th {\n",
       "        vertical-align: top;\n",
       "    }\n",
       "\n",
       "    .dataframe thead th {\n",
       "        text-align: right;\n",
       "    }\n",
       "</style>\n",
       "<table border=\"1\" class=\"dataframe\">\n",
       "  <thead>\n",
       "    <tr style=\"text-align: right;\">\n",
       "      <th></th>\n",
       "      <th>id</th>\n",
       "      <th>quotes</th>\n",
       "      <th>author</th>\n",
       "      <th>category</th>\n",
       "      <th>og_quotes</th>\n",
       "      <th>tags</th>\n",
       "    </tr>\n",
       "  </thead>\n",
       "  <tbody>\n",
       "    <tr>\n",
       "      <th>0</th>\n",
       "      <td>1</td>\n",
       "      <td>[Different, verticals, need, different, termin...</td>\n",
       "      <td>[Alex, Shultz]</td>\n",
       "      <td>[Analytics]</td>\n",
       "      <td>Different verticals need different terminal r...</td>\n",
       "      <td>Different verticals need different terminal re...</td>\n",
       "    </tr>\n",
       "    <tr>\n",
       "      <th>1</th>\n",
       "      <td>2</td>\n",
       "      <td>[Tracking, marketing, is, a, cultural, thing.,...</td>\n",
       "      <td>[Stuart, McDonald]</td>\n",
       "      <td>[Analytics]</td>\n",
       "      <td>Tracking marketing is a cultural thing. Eithe...</td>\n",
       "      <td>Tracking marketing is a cultural thing. Either...</td>\n",
       "    </tr>\n",
       "    <tr>\n",
       "      <th>2</th>\n",
       "      <td>3</td>\n",
       "      <td>[Time, and, money, are, your, scarcest, resour...</td>\n",
       "      <td>[Matt, Trifiro]</td>\n",
       "      <td>[Analytics]</td>\n",
       "      <td>Time and money are your scarcest resources. Y...</td>\n",
       "      <td>Time and money are your scarcest resources. Yo...</td>\n",
       "    </tr>\n",
       "    <tr>\n",
       "      <th>3</th>\n",
       "      <td>4</td>\n",
       "      <td>[Have, a, vision, for, what, you, are, trying,...</td>\n",
       "      <td>[Andrew, Chen]</td>\n",
       "      <td>[Analytics]</td>\n",
       "      <td>Have a vision for what you are trying to do. ...</td>\n",
       "      <td>Have a vision for what you are trying to do. U...</td>\n",
       "    </tr>\n",
       "    <tr>\n",
       "      <th>4</th>\n",
       "      <td>5</td>\n",
       "      <td>[Execution, is, so, critical., Sometimes, you,...</td>\n",
       "      <td>[Meenal, Balar]</td>\n",
       "      <td>[Analytics]</td>\n",
       "      <td>Execution is so critical. Sometimes you just ...</td>\n",
       "      <td>Execution is so critical. Sometimes you just n...</td>\n",
       "    </tr>\n",
       "  </tbody>\n",
       "</table>\n",
       "</div>"
      ],
      "text/plain": [
       "   id                                             quotes              author  \\\n",
       "0   1  [Different, verticals, need, different, termin...      [Alex, Shultz]   \n",
       "1   2  [Tracking, marketing, is, a, cultural, thing.,...  [Stuart, McDonald]   \n",
       "2   3  [Time, and, money, are, your, scarcest, resour...     [Matt, Trifiro]   \n",
       "3   4  [Have, a, vision, for, what, you, are, trying,...      [Andrew, Chen]   \n",
       "4   5  [Execution, is, so, critical., Sometimes, you,...     [Meenal, Balar]   \n",
       "\n",
       "      category                                          og_quotes  \\\n",
       "0  [Analytics]   Different verticals need different terminal r...   \n",
       "1  [Analytics]   Tracking marketing is a cultural thing. Eithe...   \n",
       "2  [Analytics]   Time and money are your scarcest resources. Y...   \n",
       "3  [Analytics]   Have a vision for what you are trying to do. ...   \n",
       "4  [Analytics]   Execution is so critical. Sometimes you just ...   \n",
       "\n",
       "                                                tags  \n",
       "0  Different verticals need different terminal re...  \n",
       "1  Tracking marketing is a cultural thing. Either...  \n",
       "2  Time and money are your scarcest resources. Yo...  \n",
       "3  Have a vision for what you are trying to do. U...  \n",
       "4  Execution is so critical. Sometimes you just n...  "
      ]
     },
     "execution_count": 121,
     "metadata": {},
     "output_type": "execute_result"
    }
   ],
   "source": [
    "data.head()"
   ]
  },
  {
   "cell_type": "code",
   "execution_count": 122,
   "id": "5efd3515",
   "metadata": {},
   "outputs": [],
   "source": [
    "df = data.drop(columns=['quotes','author','category'])"
   ]
  },
  {
   "cell_type": "code",
   "execution_count": 123,
   "id": "052dbb4e",
   "metadata": {},
   "outputs": [
    {
     "data": {
      "text/html": [
       "<div>\n",
       "<style scoped>\n",
       "    .dataframe tbody tr th:only-of-type {\n",
       "        vertical-align: middle;\n",
       "    }\n",
       "\n",
       "    .dataframe tbody tr th {\n",
       "        vertical-align: top;\n",
       "    }\n",
       "\n",
       "    .dataframe thead th {\n",
       "        text-align: right;\n",
       "    }\n",
       "</style>\n",
       "<table border=\"1\" class=\"dataframe\">\n",
       "  <thead>\n",
       "    <tr style=\"text-align: right;\">\n",
       "      <th></th>\n",
       "      <th>id</th>\n",
       "      <th>og_quotes</th>\n",
       "      <th>tags</th>\n",
       "    </tr>\n",
       "  </thead>\n",
       "  <tbody>\n",
       "    <tr>\n",
       "      <th>0</th>\n",
       "      <td>1</td>\n",
       "      <td>Different verticals need different terminal r...</td>\n",
       "      <td>Different verticals need different terminal re...</td>\n",
       "    </tr>\n",
       "    <tr>\n",
       "      <th>1</th>\n",
       "      <td>2</td>\n",
       "      <td>Tracking marketing is a cultural thing. Eithe...</td>\n",
       "      <td>Tracking marketing is a cultural thing. Either...</td>\n",
       "    </tr>\n",
       "    <tr>\n",
       "      <th>2</th>\n",
       "      <td>3</td>\n",
       "      <td>Time and money are your scarcest resources. Y...</td>\n",
       "      <td>Time and money are your scarcest resources. Yo...</td>\n",
       "    </tr>\n",
       "    <tr>\n",
       "      <th>3</th>\n",
       "      <td>4</td>\n",
       "      <td>Have a vision for what you are trying to do. ...</td>\n",
       "      <td>Have a vision for what you are trying to do. U...</td>\n",
       "    </tr>\n",
       "    <tr>\n",
       "      <th>4</th>\n",
       "      <td>5</td>\n",
       "      <td>Execution is so critical. Sometimes you just ...</td>\n",
       "      <td>Execution is so critical. Sometimes you just n...</td>\n",
       "    </tr>\n",
       "  </tbody>\n",
       "</table>\n",
       "</div>"
      ],
      "text/plain": [
       "   id                                          og_quotes  \\\n",
       "0   1   Different verticals need different terminal r...   \n",
       "1   2   Tracking marketing is a cultural thing. Eithe...   \n",
       "2   3   Time and money are your scarcest resources. Y...   \n",
       "3   4   Have a vision for what you are trying to do. ...   \n",
       "4   5   Execution is so critical. Sometimes you just ...   \n",
       "\n",
       "                                                tags  \n",
       "0  Different verticals need different terminal re...  \n",
       "1  Tracking marketing is a cultural thing. Either...  \n",
       "2  Time and money are your scarcest resources. Yo...  \n",
       "3  Have a vision for what you are trying to do. U...  \n",
       "4  Execution is so critical. Sometimes you just n...  "
      ]
     },
     "execution_count": 123,
     "metadata": {},
     "output_type": "execute_result"
    }
   ],
   "source": [
    "df.head()"
   ]
  },
  {
   "cell_type": "code",
   "execution_count": 124,
   "id": "0fa54806",
   "metadata": {},
   "outputs": [],
   "source": [
    "from sklearn.feature_extraction.text import CountVectorizer\n",
    "cv = CountVectorizer(max_features=5000,stop_words='english')\n",
    "    "
   ]
  },
  {
   "cell_type": "code",
   "execution_count": 125,
   "id": "08ab46ce",
   "metadata": {},
   "outputs": [],
   "source": [
    "vector = cv.fit_transform(df['tags']).toarray()\n"
   ]
  },
  {
   "cell_type": "code",
   "execution_count": 126,
   "id": "e2efcb5f",
   "metadata": {},
   "outputs": [
    {
     "data": {
      "text/plain": [
       "(83, 947)"
      ]
     },
     "execution_count": 126,
     "metadata": {},
     "output_type": "execute_result"
    }
   ],
   "source": [
    "vector.shape"
   ]
  },
  {
   "cell_type": "code",
   "execution_count": 127,
   "id": "596a3e1b",
   "metadata": {},
   "outputs": [],
   "source": [
    "from sklearn.metrics.pairwise import cosine_similarity"
   ]
  },
  {
   "cell_type": "code",
   "execution_count": 128,
   "id": "8dc832af",
   "metadata": {},
   "outputs": [],
   "source": [
    "similarity = cosine_similarity(vector)"
   ]
  },
  {
   "cell_type": "code",
   "execution_count": 129,
   "id": "0063241c",
   "metadata": {},
   "outputs": [
    {
     "data": {
      "text/plain": [
       "array([[1.        , 0.08183171, 0.025     , ..., 0.        , 0.        ,\n",
       "        0.        ],\n",
       "       [0.08183171, 1.        , 0.13093073, ..., 0.06052275, 0.05292561,\n",
       "        0.        ],\n",
       "       [0.025     , 0.13093073, 1.        , ..., 0.        , 0.09701425,\n",
       "        0.        ],\n",
       "       ...,\n",
       "       [0.        , 0.06052275, 0.        , ..., 1.        , 0.40360368,\n",
       "        0.43852901],\n",
       "       [0.        , 0.05292561, 0.09701425, ..., 0.40360368, 1.        ,\n",
       "        0.38348249],\n",
       "       [0.        , 0.        , 0.        , ..., 0.43852901, 0.38348249,\n",
       "        1.        ]])"
      ]
     },
     "execution_count": 129,
     "metadata": {},
     "output_type": "execute_result"
    }
   ],
   "source": [
    "similarity"
   ]
  },
  {
   "cell_type": "code",
   "execution_count": 133,
   "id": "1108a3c3",
   "metadata": {},
   "outputs": [],
   "source": [
    "def recommend(quotes):\n",
    "    index = df[df['og_quotes'] == quotes].index[0]\n",
    "    distances = sorted(list(enumerate(similarity[index])),reverse=True,key = lambda x: x[1])\n",
    "    for i in distances[1:6]:\n",
    "        print(df.iloc[i[0]].og_quotes)"
   ]
  },
  {
   "cell_type": "code",
   "execution_count": 134,
   "id": "73b8d503",
   "metadata": {},
   "outputs": [
    {
     "data": {
      "text/plain": [
       "' Different verticals need different terminal retention rates for them to have successful businesses. If you  re on e-commerce and you  re retaining on a monthly active basis, like 20 to 30% of your users, you  re going to do very well. If you  re on social media, and the first batch of people signing up to your product are not like, 80% retained, you  re not going to have a massive social media site. [...] What you need to do is have the tools to think,  \\x98who out there is comparable   and how you can look at it and say,  \\x98am I anywhere close to what real success looks like in this vertical?   \\x9d'"
      ]
     },
     "execution_count": 134,
     "metadata": {},
     "output_type": "execute_result"
    }
   ],
   "source": [
    "data['og_quotes'][0]"
   ]
  },
  {
   "cell_type": "code",
   "execution_count": 135,
   "id": "06d4af93",
   "metadata": {},
   "outputs": [
    {
     "name": "stdout",
     "output_type": "stream",
     "text": [
      " You don  t need to learn what customers say they want; you need to learn how customers behave and what they need. In other words, focus on their problem, not their suggested solution. \n",
      " For every $20 you spend on web analytics tools, you should spend $80 on the brains to make sense of the data. \n",
      " In a marketing analytics worldview, companies must have an accounting of and insight into all of their marketing programs in all of their channels, including web/browser, mobile apps, TV/video, social, paid media, field, print, outdoor and others. If your organization is still stuck in the web analytics mindset, it is time to reinvent your analytics practice, leveraging all of the available marketing analytics tools to make faster and better decisions and drive your business. \n",
      " The problem with Silicon Valley is when you build an app you are expected to make the app go viral and reach millions of people. This is the worst way to think about it   it  s much better to get 100 people to love you. There was no way we could get 1M people on Airbnb, but we could get 100 people to love us. This is when we decided to do things that wouldn  t scale. Getting 100 people to love you is hard   getting people to like you is much easier than getting people to love you. \n",
      " When you are dealing with a torrent of data, being able to construct different levels of aggregation is really important, because you want to make sure you  ve used your software intelligently with respect to that large amount of data, and bring to bear the contextual data you need to answer the question at the level of aggregation that you need to answer it. \n"
     ]
    }
   ],
   "source": [
    "recommend(' Different verticals need different terminal retention rates for them to have successful businesses. If you  re on e-commerce and you  re retaining on a monthly active basis, like 20 to 30% of your users, you  re going to do very well. If you  re on social media, and the first batch of people signing up to your product are not like, 80% retained, you  re not going to have a massive social media site. [...] What you need to do is have the tools to think,  \\x98who out there is comparable   and how you can look at it and say,  \\x98am I anywhere close to what real success looks like in this vertical?   \\x9d')"
   ]
  },
  {
   "cell_type": "code",
   "execution_count": 136,
   "id": "4e987878",
   "metadata": {},
   "outputs": [],
   "source": [
    "import pickle"
   ]
  },
  {
   "cell_type": "code",
   "execution_count": 137,
   "id": "5f2ef616",
   "metadata": {},
   "outputs": [],
   "source": [
    "pickle.dump(df,open('quotes_list.pkl','wb'))\n",
    "pickle.dump(similarity,open('similarity.pkl','wb'))"
   ]
  },
  {
   "cell_type": "code",
   "execution_count": null,
   "id": "fa1ff62e",
   "metadata": {},
   "outputs": [],
   "source": []
  }
 ],
 "metadata": {
  "kernelspec": {
   "display_name": "Python 3 (ipykernel)",
   "language": "python",
   "name": "python3"
  },
  "language_info": {
   "codemirror_mode": {
    "name": "ipython",
    "version": 3
   },
   "file_extension": ".py",
   "mimetype": "text/x-python",
   "name": "python",
   "nbconvert_exporter": "python",
   "pygments_lexer": "ipython3",
   "version": "3.9.7"
  }
 },
 "nbformat": 4,
 "nbformat_minor": 5
}
